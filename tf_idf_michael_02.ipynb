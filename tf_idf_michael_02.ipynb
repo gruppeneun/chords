{
 "cells": [
  {
   "cell_type": "code",
   "execution_count": 1,
   "metadata": {},
   "outputs": [],
   "source": [
    "\"\"\"\n",
    "Created on Wed May 26 16:58:42 2021\n",
    "\n",
    "@author: michael\n",
    "\"\"\"\n",
    "\n",
    "import pandas as pd\n",
    "import numpy as np\n",
    "import os\n",
    "\n",
    "from sklearn.feature_extraction.text import CountVectorizer\n",
    "from sklearn.feature_extraction.text import TfidfTransformer\n",
    "from sklearn.feature_extraction.text import TfidfVectorizer"
   ]
  },
  {
   "cell_type": "code",
   "execution_count": null,
   "metadata": {},
   "outputs": [],
   "source": [
    "# size of the ngrams\n",
    "# N_ngram = 3"
   ]
  },
  {
   "cell_type": "code",
   "execution_count": 4,
   "metadata": {},
   "outputs": [
    {
     "name": "stdout",
     "output_type": "stream",
     "text": [
      "Fine And Dandy.xml\n",
      "These Foolish Things.xml\n",
      "What A Wonderful World.xml\n",
      "Fools Rush In.xml\n",
      "A Certain Smile.xml\n",
      "Copenhagen.xml\n",
      "Anthropology.xml\n",
      "Tenor Madness.xml\n",
      "Rhythm Changes.xml\n",
      "A Fine Romance.xml\n",
      "Don't Get Around Much Anymore.xml\n",
      "All Of Me.xml\n",
      "Windows.xml\n",
      "Creole Love Call.xml\n",
      "Things Ain't What They Used To Be.xml\n",
      "A Tisket A Tasket.xml\n",
      "Moonlight Becomes You.xml\n",
      "Fine And Mellow.xml\n",
      "Danny Boy.xml\n",
      "Blood Count.xml\n",
      "CM7 Ebmdim Dm7 G7 CM7 Ebmdim Dm7 G7 C7 F7 Bb7 Eb7 G7 CM7 Ebmdim Dm7 G7 CM7 Ebmdim Dm7 G7 Gm7 C7 FM7 Fm7 D7 Dm7 G7 CM7\n",
      "CM7 Am7 Dm7 G7 CM7 Am7 Dm7 G7 Gm7 C7 FM7 E7 A7 D7 Dm7 G7 D7 G7 C6 F#m7b5 B7 Em7 C#m7b5 F#m7b5 B7 Em7 A7 D7 GM7 Em7 Am7 D7 G7 C#dim7 Dm7 G7 CM7 Am7 Dm7 G7 CM7 Am7 Dm7 G7 Gm7 C7 FM7 E7 A7 D7 G7 C6 Dm7 G7\n",
      "C Em F Em Dm7 C E7 Am G# Dm7 G7 C Caug FM7 G7 C Em F Em Dm7 C E7 Am G# Dm7 G7 C F C G7 C G7 C Am G Am G Am C#dim7 Dm7 C#mdim Dm7 G7 C Em F Em Dm7 C E7 Am G# Dm7 G7 C Em7b5 A7 Dm7 G7 C F6 C\n",
      "Dm7 G7 CM7 Am7 Dm7 G7 CM7 Am7 Dm7 G7 C6 Am7 D7 G7 Dm7 G7 CM7 Am7 Dm7 G7 Em7b5 A7 Dm7 Fm6 CM7 Am7 Dm7 G7 C6 Am7 Dm7 G7\n",
      "Dm7 G7 CM7 Dm7 G7 CM7 Bm7 E7 Am7 D7 GM7 Am7 D7 Dm7 G7 C G7 EM7 FM7 A7 Dm7 Fm6 Eaug7 CM7 Am7 Dm7 G7 CM7\n",
      "FM7 Fm6 CM7 A7 D7 G7 C C7 C G7 C Dm Em C G# C G7 C G7 C Dm Em C G# C G7 C C7 FM7 Fm6 CM7 A7 D7 G7 C C7\n",
      "CM7 A7 Dm7 G7 Em7 A7 Dm7 G7 Gm7 C7 F7 Bb7 Em7 A7 Dm7 G7 Dm7 G7 C6 E7 A7 D7 G7 CM7 A7 Dm7 G7 Em7 A7 Dm7 G7 Gm7 C7 F7 Bb7 Dm7 G7 C6\n",
      "C7 F7 C7 F7 C7 Dm7 G7 C7 G7\n",
      "CM7 A7 Dm7 G7 Em7 A7 Dm7 G7 Gm7 C7 F7 Bb7 Em7 A7 Dm7 G7 Dm7 G7 C6 E7 A7 D7 G7 CM7 A7 Dm7 G7 Em7 A7 Dm7 G7 Gm7 C7 F7 Bb7 Dm7 G7 C6\n",
      "C6 C#dim7 Dm6 Ebdim7 Em7 Am7 Dm7 G7 C6 Ebdim7 Dm7 G7 Em7 A7 D7 G7 C6 C#dim7 Dm6 Ebdim7 Em7 Am7 Dm7 G7 C6 C7 FM7 F#m7b5 B7 Em7 A7 Dm7 G7 C6 Dm7 G7\n"
     ]
    }
   ],
   "source": [
    "# filename definitions\n",
    "directory = './chord_sequences'\n",
    "tune_names_path = os.path.join(directory, 'tune_names.txt')\n",
    "path_to_file = os.path.join(directory, 'chords_relative_full.txt')\n",
    "\n",
    "\n",
    "# read data\n",
    "with open(tune_names_path, encoding=\"utf8\", errors=\"replace\") as f:\n",
    "    tune_names = f.read().splitlines()\n",
    "for line in tune_names[:20]:\n",
    "    print(line)\n",
    "\n",
    "with open(path_to_file) as f:\n",
    "    lines = f.read().splitlines()\n",
    "\n",
    "for i in range(len(lines)):\n",
    "    lines[i] = lines[i].strip()\n",
    "    if i < 10:\n",
    "        print(lines[i])"
   ]
  },
  {
   "cell_type": "code",
   "execution_count": 6,
   "metadata": {},
   "outputs": [
    {
     "name": "stdout",
     "output_type": "stream",
     "text": [
      "<class 'list'>\n",
      "[['CM7', 'Ebmdim', 'Dm7', 'G7', 'CM7', 'Ebmdim', 'Dm7', 'G7', 'C7', 'F7', 'Bb7', 'Eb7', 'G7', 'CM7', 'Ebmdim', 'Dm7', 'G7', 'CM7', 'Ebmdim', 'Dm7', 'G7', 'Gm7', 'C7', 'FM7', 'Fm7', 'D7', 'Dm7', 'G7', 'CM7'], ['CM7', 'Am7', 'Dm7', 'G7', 'CM7', 'Am7', 'Dm7', 'G7', 'Gm7', 'C7', 'FM7', 'E7', 'A7', 'D7', 'Dm7', 'G7', 'D7', 'G7', 'C6', 'F#m7b5', 'B7', 'Em7', 'C#m7b5', 'F#m7b5', 'B7', 'Em7', 'A7', 'D7', 'GM7', 'Em7', 'Am7', 'D7', 'G7', 'C#dim7', 'Dm7', 'G7', 'CM7', 'Am7', 'Dm7', 'G7', 'CM7', 'Am7', 'Dm7', 'G7', 'Gm7', 'C7', 'FM7', 'E7', 'A7', 'D7', 'G7', 'C6', 'Dm7', 'G7'], ['C', 'Em', 'F', 'Em', 'Dm7', 'C', 'E7', 'Am', 'G#', 'Dm7', 'G7', 'C', 'Caug', 'FM7', 'G7', 'C', 'Em', 'F', 'Em', 'Dm7', 'C', 'E7', 'Am', 'G#', 'Dm7', 'G7', 'C', 'F', 'C', 'G7', 'C', 'G7', 'C', 'Am', 'G', 'Am', 'G', 'Am', 'C#dim7', 'Dm7', 'C#mdim', 'Dm7', 'G7', 'C', 'Em', 'F', 'Em', 'Dm7', 'C', 'E7', 'Am', 'G#', 'Dm7', 'G7', 'C', 'Em7b5', 'A7', 'Dm7', 'G7', 'C', 'F6', 'C'], ['Dm7', 'G7', 'CM7', 'Am7', 'Dm7', 'G7', 'CM7', 'Am7', 'Dm7', 'G7', 'C6', 'Am7', 'D7', 'G7', 'Dm7', 'G7', 'CM7', 'Am7', 'Dm7', 'G7', 'Em7b5', 'A7', 'Dm7', 'Fm6', 'CM7', 'Am7', 'Dm7', 'G7', 'C6', 'Am7', 'Dm7', 'G7'], ['Dm7', 'G7', 'CM7', 'Dm7', 'G7', 'CM7', 'Bm7', 'E7', 'Am7', 'D7', 'GM7', 'Am7', 'D7', 'Dm7', 'G7', 'C', 'G7', 'EM7', 'FM7', 'A7', 'Dm7', 'Fm6', 'Eaug7', 'CM7', 'Am7', 'Dm7', 'G7', 'CM7'], ['FM7', 'Fm6', 'CM7', 'A7', 'D7', 'G7', 'C', 'C7', 'C', 'G7', 'C', 'Dm', 'Em', 'C', 'G#', 'C', 'G7', 'C', 'G7', 'C', 'Dm', 'Em', 'C', 'G#', 'C', 'G7', 'C', 'C7', 'FM7', 'Fm6', 'CM7', 'A7', 'D7', 'G7', 'C', 'C7'], ['CM7', 'A7', 'Dm7', 'G7', 'Em7', 'A7', 'Dm7', 'G7', 'Gm7', 'C7', 'F7', 'Bb7', 'Em7', 'A7', 'Dm7', 'G7', 'Dm7', 'G7', 'C6', 'E7', 'A7', 'D7', 'G7', 'CM7', 'A7', 'Dm7', 'G7', 'Em7', 'A7', 'Dm7', 'G7', 'Gm7', 'C7', 'F7', 'Bb7', 'Dm7', 'G7', 'C6'], ['C7', 'F7', 'C7', 'F7', 'C7', 'Dm7', 'G7', 'C7', 'G7'], ['CM7', 'A7', 'Dm7', 'G7', 'Em7', 'A7', 'Dm7', 'G7', 'Gm7', 'C7', 'F7', 'Bb7', 'Em7', 'A7', 'Dm7', 'G7', 'Dm7', 'G7', 'C6', 'E7', 'A7', 'D7', 'G7', 'CM7', 'A7', 'Dm7', 'G7', 'Em7', 'A7', 'Dm7', 'G7', 'Gm7', 'C7', 'F7', 'Bb7', 'Dm7', 'G7', 'C6'], ['C6', 'C#dim7', 'Dm6', 'Ebdim7', 'Em7', 'Am7', 'Dm7', 'G7', 'C6', 'Ebdim7', 'Dm7', 'G7', 'Em7', 'A7', 'D7', 'G7', 'C6', 'C#dim7', 'Dm6', 'Ebdim7', 'Em7', 'Am7', 'Dm7', 'G7', 'C6', 'C7', 'FM7', 'F#m7b5', 'B7', 'Em7', 'A7', 'Dm7', 'G7', 'C6', 'Dm7', 'G7'], ['CM7', 'Dm7', 'Ebmdim', 'Em7', 'CM7', 'B7', 'Bb7', 'A7', 'Dm7', 'G7', 'C6', 'G7', 'C6', 'Gm7', 'C7', 'FM7', 'Bb7', 'CM7', 'C7', 'FM7', 'F#m7b5', 'B7', 'Em7', 'Ebdim7', 'Dm7', 'G7', 'CM7', 'Dm7', 'Ebmdim', 'Em7', 'CM7', 'B7', 'Bb7', 'A7', 'Dm7', 'G7', 'C6', 'G7'], ['CM7', 'E7', 'A7', 'Dm7', 'E7', 'Am7', 'D7', 'Dm7', 'G7', 'CM7', 'E7', 'A7', 'Dm7', 'FM7', 'Fm6', 'Em7', 'A7', 'Dm7', 'G7', 'C6', 'Ebdim7', 'Dm7', 'G7'], ['Am7', 'F#m7b5', 'B7', 'Em7', 'C11sus', 'DM7', 'F#7', 'G7', 'F#7', 'G7', 'F#7', 'G7', 'F#7', 'G7', 'DM7', 'Bm7', 'G#m7b5', 'C#7', 'F#m7', 'B7', 'DM7', 'C#m7', 'Bm7', 'Bb7', 'AM7', 'Bm7'], ['C6', 'C7', 'F', 'C', 'G7', 'F', 'G7', 'C', 'F7', 'C', 'G7', 'C', 'G7', 'C', 'G7', 'C7', 'F', 'F#dim7', 'C', 'Bbdim7', 'G7', 'C', 'C6', 'C7', 'F', 'C', 'G7', 'F', 'G7', 'C', 'F7', 'C'], ['C7', 'F7', 'C7', 'F7', 'C7', 'Dm7', 'G7', 'C7', 'A7', 'Dm7', 'G7'], ['CM7', 'FM7', 'Em7', 'A7', 'Dm7', 'G7', 'Dm7', 'G7', 'CM7', 'G7', 'CM7', 'C7', 'F6', 'Fm6', 'CM7', 'C7', 'F6', 'Fm6', 'Em7', 'A7', 'Dm7', 'G7', 'CM7', 'FM7', 'Em7', 'A7', 'Dm7', 'G7', 'Dm7', 'G7', 'CM7'], ['CM7', 'C#dim7', 'Dm7', 'G7', 'CM7', 'E7', 'FM7', 'Bb7', 'Em7', 'A7', 'Dm7', 'G7', 'Em7', 'A7', 'Dm7', 'G7', 'C6', 'Gm7', 'C7', 'FM7', 'F7', 'BbM7', 'C7', 'FM7', 'Bm7b5', 'E7', 'Am7', 'D7', 'Dm7', 'G7', 'CM7', 'C#dim7', 'Dm7', 'G7', 'CM7', 'E7', 'FM7', 'Bb7', 'Em7', 'A7', 'Dm7', 'G7', 'E7', 'A7', 'D7', 'G7', 'C6'], ['C7', 'F7', 'C7', 'F7', 'C7', 'G7', 'G#7', 'G7', 'C7', 'G7'], ['C', 'C7', 'F', 'C', 'Am7', 'Dm7', 'G7', 'C', 'F', 'D7', 'C', 'Am', 'Dm7', 'G7', 'C', 'Dm7', 'G7', 'C', 'Dm7', 'G7', 'C', 'Dm7', 'G7', 'Am', 'F', 'A7', 'Dm7', 'G7', 'C', 'C7', 'F', 'F#dim7', 'C', 'Am', 'F', 'F#dim7', 'C', 'Am', 'Dm7', 'G7', 'C', 'Dm7', 'G7'], ['Eb9', 'D13', 'C#13', 'G#m7', 'C#9', 'Cm', 'Cm6', 'Gm7', 'C9', 'Eb9', 'D13', 'C#13', 'G#m7', 'C#9', 'CM7', 'CaugM7', 'C6', 'Gm7', 'C9', 'FM13', 'F11sus', 'Fm6', 'G#9', 'Am7b5', 'Ddim7', 'G13', 'G#13', 'A13', 'Bb13', 'Eb9', 'D13', 'C#13', 'G#m7', 'C#9', 'CM7', 'CaugM7', 'C6', 'Gm7', 'C9', 'FM9', 'Fm6', 'Em7', 'Am7', 'F#m7b5', 'B7', 'Em7', 'Eb9', 'Dm7', 'C#9', 'C7', 'Eb9', 'Dm7', 'C#9', 'Em7', 'Eb9', 'Dm7', 'C#9', 'F', 'F#', 'A', 'Bb', 'B', 'G#']]\n"
     ]
    }
   ],
   "source": [
    "# Convert the raw text into arrays of tunes, containing an array of chords\n",
    "tunes = []\n",
    "chords_total = 0\n",
    "for tune in lines:\n",
    "    tunes.append(tune.strip().split(' '))\n",
    "    chords_total += len(tune)\n",
    "\n",
    "print(type(tunes))\n",
    "print(tunes)"
   ]
  },
  {
   "cell_type": "code",
   "execution_count": 7,
   "metadata": {},
   "outputs": [
    {
     "name": "stdout",
     "output_type": "stream",
     "text": [
      "['CM7 Ebmdim Dm7 G7 CM7 Ebmdim Dm7 G7 C7 F7 Bb7 Eb7 G7 CM7 Ebmdim Dm7 G7 CM7 Ebmdim Dm7 G7 Gm7 C7 FM7 Fm7 D7 Dm7 G7 CM7', 'CM7 Am7 Dm7 G7 CM7 Am7 Dm7 G7 Gm7 C7 FM7 E7 A7 D7 Dm7 G7 D7 G7 C6 F#m7b5 B7 Em7 C#m7b5 F#m7b5 B7 Em7 A7 D7 GM7 Em7 Am7 D7 G7 C#dim7 Dm7 G7 CM7 Am7 Dm7 G7 CM7 Am7 Dm7 G7 Gm7 C7 FM7 E7 A7 D7 G7 C6 Dm7 G7', 'C Em F Em Dm7 C E7 Am G# Dm7 G7 C Caug FM7 G7 C Em F Em Dm7 C E7 Am G# Dm7 G7 C F C G7 C G7 C Am G Am G Am C#dim7 Dm7 C#mdim Dm7 G7 C Em F Em Dm7 C E7 Am G# Dm7 G7 C Em7b5 A7 Dm7 G7 C F6 C', 'Dm7 G7 CM7 Am7 Dm7 G7 CM7 Am7 Dm7 G7 C6 Am7 D7 G7 Dm7 G7 CM7 Am7 Dm7 G7 Em7b5 A7 Dm7 Fm6 CM7 Am7 Dm7 G7 C6 Am7 Dm7 G7', 'Dm7 G7 CM7 Dm7 G7 CM7 Bm7 E7 Am7 D7 GM7 Am7 D7 Dm7 G7 C G7 EM7 FM7 A7 Dm7 Fm6 Eaug7 CM7 Am7 Dm7 G7 CM7', 'FM7 Fm6 CM7 A7 D7 G7 C C7 C G7 C Dm Em C G# C G7 C G7 C Dm Em C G# C G7 C C7 FM7 Fm6 CM7 A7 D7 G7 C C7', 'CM7 A7 Dm7 G7 Em7 A7 Dm7 G7 Gm7 C7 F7 Bb7 Em7 A7 Dm7 G7 Dm7 G7 C6 E7 A7 D7 G7 CM7 A7 Dm7 G7 Em7 A7 Dm7 G7 Gm7 C7 F7 Bb7 Dm7 G7 C6', 'C7 F7 C7 F7 C7 Dm7 G7 C7 G7', 'CM7 A7 Dm7 G7 Em7 A7 Dm7 G7 Gm7 C7 F7 Bb7 Em7 A7 Dm7 G7 Dm7 G7 C6 E7 A7 D7 G7 CM7 A7 Dm7 G7 Em7 A7 Dm7 G7 Gm7 C7 F7 Bb7 Dm7 G7 C6', 'C6 C#dim7 Dm6 Ebdim7 Em7 Am7 Dm7 G7 C6 Ebdim7 Dm7 G7 Em7 A7 D7 G7 C6 C#dim7 Dm6 Ebdim7 Em7 Am7 Dm7 G7 C6 C7 FM7 F#m7b5 B7 Em7 A7 Dm7 G7 C6 Dm7 G7']\n",
      "<class 'list'>\n"
     ]
    }
   ],
   "source": [
    "# irgendwie habe ich die tunes nicht in TF-IDF zu laufen gebracht. Habe eine manuelle List erstellt um weiterarbeiten zu können.\n",
    "\n",
    "tunes_manuell = ['CM7 Ebmdim Dm7 G7 CM7 Ebmdim Dm7 G7 C7 F7 Bb7 Eb7 G7 CM7 Ebmdim Dm7 G7 CM7 Ebmdim Dm7 G7 Gm7 C7 FM7 Fm7 D7 Dm7 G7 CM7', \n",
    "                 'CM7 Am7 Dm7 G7 CM7 Am7 Dm7 G7 Gm7 C7 FM7 E7 A7 D7 Dm7 G7 D7 G7 C6 F#m7b5 B7 Em7 C#m7b5 F#m7b5 B7 Em7 A7 D7 GM7 Em7 Am7 D7 G7 C#dim7 Dm7 G7 CM7 Am7 Dm7 G7 CM7 Am7 Dm7 G7 Gm7 C7 FM7 E7 A7 D7 G7 C6 Dm7 G7', \n",
    "                 'C Em F Em Dm7 C E7 Am G# Dm7 G7 C Caug FM7 G7 C Em F Em Dm7 C E7 Am G# Dm7 G7 C F C G7 C G7 C Am G Am G Am C#dim7 Dm7 C#mdim Dm7 G7 C Em F Em Dm7 C E7 Am G# Dm7 G7 C Em7b5 A7 Dm7 G7 C F6 C', \n",
    "                 \"Dm7 G7 CM7 Am7 Dm7 G7 CM7 Am7 Dm7 G7 C6 Am7 D7 G7 Dm7 G7 CM7 Am7 Dm7 G7 Em7b5 A7 Dm7 Fm6 CM7 Am7 Dm7 G7 C6 Am7 Dm7 G7\",\n",
    "                 'Dm7 G7 CM7 Dm7 G7 CM7 Bm7 E7 Am7 D7 GM7 Am7 D7 Dm7 G7 C G7 EM7 FM7 A7 Dm7 Fm6 Eaug7 CM7 Am7 Dm7 G7 CM7',\n",
    "                 'FM7 Fm6 CM7 A7 D7 G7 C C7 C G7 C Dm Em C G# C G7 C G7 C Dm Em C G# C G7 C C7 FM7 Fm6 CM7 A7 D7 G7 C C7',\n",
    "                 'CM7 A7 Dm7 G7 Em7 A7 Dm7 G7 Gm7 C7 F7 Bb7 Em7 A7 Dm7 G7 Dm7 G7 C6 E7 A7 D7 G7 CM7 A7 Dm7 G7 Em7 A7 Dm7 G7 Gm7 C7 F7 Bb7 Dm7 G7 C6',\n",
    "                 'C7 F7 C7 F7 C7 Dm7 G7 C7 G7',\n",
    "                 'CM7 A7 Dm7 G7 Em7 A7 Dm7 G7 Gm7 C7 F7 Bb7 Em7 A7 Dm7 G7 Dm7 G7 C6 E7 A7 D7 G7 CM7 A7 Dm7 G7 Em7 A7 Dm7 G7 Gm7 C7 F7 Bb7 Dm7 G7 C6',\n",
    "                 'C6 C#dim7 Dm6 Ebdim7 Em7 Am7 Dm7 G7 C6 Ebdim7 Dm7 G7 Em7 A7 D7 G7 C6 C#dim7 Dm6 Ebdim7 Em7 Am7 Dm7 G7 C6 C7 FM7 F#m7b5 B7 Em7 A7 Dm7 G7 C6 Dm7 G7']\n",
    "print(tunes_manuell)\n",
    "print(type(tunes_manuell))"
   ]
  },
  {
   "cell_type": "code",
   "execution_count": 10,
   "metadata": {},
   "outputs": [
    {
     "name": "stdout",
     "output_type": "stream",
     "text": [
      "  (0, 9)\t5\n",
      "  (0, 19)\t4\n",
      "  (0, 14)\t5\n",
      "  (0, 27)\t6\n",
      "  (0, 7)\t2\n",
      "  (0, 24)\t1\n",
      "  (0, 4)\t1\n",
      "  (0, 17)\t1\n",
      "  (0, 28)\t1\n",
      "  (0, 26)\t2\n",
      "  (0, 10)\t1\n",
      "  (1, 9)\t4\n",
      "  (1, 14)\t7\n",
      "  (1, 27)\t10\n",
      "  (1, 7)\t2\n",
      "  (1, 28)\t3\n",
      "  (1, 26)\t2\n",
      "  (1, 10)\t5\n",
      "  (1, 2)\t5\n",
      "  (1, 15)\t2\n",
      "  (1, 0)\t3\n",
      "  (1, 6)\t2\n",
      "  (1, 29)\t3\n",
      "  (1, 3)\t2\n",
      "  (1, 21)\t3\n",
      "  :\t:\n",
      "  (8, 14)\t7\n",
      "  (8, 27)\t8\n",
      "  (8, 7)\t2\n",
      "  (8, 24)\t2\n",
      "  (8, 4)\t2\n",
      "  (8, 28)\t2\n",
      "  (8, 10)\t1\n",
      "  (8, 15)\t1\n",
      "  (8, 0)\t6\n",
      "  (8, 6)\t2\n",
      "  (8, 21)\t3\n",
      "  (9, 14)\t5\n",
      "  (9, 27)\t6\n",
      "  (9, 7)\t1\n",
      "  (9, 26)\t1\n",
      "  (9, 10)\t1\n",
      "  (9, 2)\t2\n",
      "  (9, 0)\t2\n",
      "  (9, 6)\t5\n",
      "  (9, 29)\t1\n",
      "  (9, 3)\t1\n",
      "  (9, 21)\t4\n",
      "  (9, 11)\t2\n",
      "  (9, 13)\t2\n",
      "  (9, 18)\t3\n",
      "   a7 d7  a7 dm7  am am  am dim7  am dm7  am7 d7  am7 dm7  b7 em7  bb7 dm7  \\\n",
      "0      0       0      0        0       0       0        0       0        0   \n",
      "1      3       0      0        0       0       1        4       2        0   \n",
      "2      0       1      2        1       3       0        0       0        0   \n",
      "3      0       1      0        0       0       1        5       0        0   \n",
      "4      0       1      0        0       0       2        1       0        0   \n",
      "5      2       0      0        0       0       0        0       0        0   \n",
      "6      1       5      0        0       0       0        0       0        1   \n",
      "7      0       0      0        0       0       0        0       0        0   \n",
      "8      1       5      0        0       0       0        0       0        1   \n",
      "9      1       1      0        0       0       0        2       1        0   \n",
      "\n",
      "   bb7 eb7  ...  g7 em7b5  g7 f6  g7 g7  g7 gm7  gm7 am7  gm7 c7  gm7 em7  \\\n",
      "0        1  ...         0      0      0       1        0       1        0   \n",
      "1        0  ...         0      0      0       2        0       2        1   \n",
      "2        0  ...         1      1      2       0        0       0        0   \n",
      "3        0  ...         1      0      0       0        0       0        0   \n",
      "4        0  ...         0      0      1       0        1       0        0   \n",
      "5        0  ...         0      0      1       0        0       0        0   \n",
      "6        0  ...         0      0      0       2        0       2        0   \n",
      "7        0  ...         0      0      0       0        0       0        0   \n",
      "8        0  ...         0      0      0       2        0       2        0   \n",
      "9        0  ...         0      0      0       0        0       0        0   \n",
      "\n",
      "   m7b5 b7  m7b5 m7b5  mdim dm7  \n",
      "0        0          0         0  \n",
      "1        2          1         0  \n",
      "2        0          0         1  \n",
      "3        0          0         0  \n",
      "4        0          0         0  \n",
      "5        0          0         0  \n",
      "6        0          0         0  \n",
      "7        0          0         0  \n",
      "8        0          0         0  \n",
      "9        1          0         0  \n",
      "\n",
      "[10 rows x 88 columns]\n"
     ]
    }
   ],
   "source": [
    "# Application of Bag of Words Model\n",
    "\n",
    "# get bag of words features in sparse format\n",
    "cv = CountVectorizer(min_df=0., max_df=1.)  \n",
    "cv_matrix = cv.fit_transform(tunes_manuell)\n",
    "print(cv_matrix)\n",
    "\n",
    "cv_matrix = cv_matrix.toarray()\n",
    "\n",
    "# get all unique words in the corpus\n",
    "vocab = cv.get_feature_names()\n",
    "pd.DataFrame(cv_matrix, columns = vocab)\n",
    "\n",
    "# Bag of N-Grams Model, Vorbereitung für TF-IDF.\n",
    "bv = CountVectorizer(ngram_range=(2,2))\n",
    "bv_matrix = bv.fit_transform(tunes_manuell)\n",
    "\n",
    "bv_matrix = bv_matrix.toarray()\n",
    "vocab = bv.get_feature_names()\n",
    "\n",
    "tf_idf_bag = pd.DataFrame(bv_matrix, columns=vocab)\n",
    "print(tf_idf_bag)"
   ]
  },
  {
   "cell_type": "code",
   "execution_count": 12,
   "metadata": {},
   "outputs": [
    {
     "name": "stdout",
     "output_type": "stream",
     "text": [
      "     a7    am   am7    b7   bb7   bm7    c6    c7  caug   cm7  ...   em7  \\\n",
      "0  0.00  0.00  0.00  0.00  0.12  0.00  0.00  0.16   0.0  0.41  ...  0.00   \n",
      "1  0.17  0.00  0.41  0.21  0.00  0.00  0.15  0.12   0.0  0.24  ...  0.22   \n",
      "2  0.05  0.63  0.00  0.00  0.00  0.00  0.00  0.00   0.1  0.00  ...  0.00   \n",
      "3  0.07  0.00  0.61  0.00  0.00  0.00  0.18  0.00   0.0  0.30  ...  0.00   \n",
      "4  0.10  0.00  0.44  0.00  0.00  0.22  0.00  0.00   0.0  0.43  ...  0.13   \n",
      "5  0.20  0.00  0.00  0.00  0.00  0.00  0.00  0.33   0.0  0.22  ...  0.00   \n",
      "6  0.44  0.00  0.00  0.00  0.25  0.00  0.20  0.16   0.0  0.16  ...  0.30   \n",
      "7  0.00  0.00  0.00  0.00  0.00  0.00  0.00  0.78   0.0  0.00  ...  0.00   \n",
      "8  0.44  0.00  0.00  0.00  0.25  0.00  0.20  0.16   0.0  0.16  ...  0.30   \n",
      "9  0.13  0.00  0.20  0.13  0.00  0.00  0.45  0.07   0.0  0.00  ...  0.36   \n",
      "\n",
      "   em7b5   f6    f7   fm6   fm7    g7   gm7  m7b5  mdim  \n",
      "0   0.00  0.0  0.11  0.00  0.18  0.37  0.10  0.00   0.0  \n",
      "1   0.00  0.0  0.00  0.00  0.13  0.46  0.22  0.32   0.0  \n",
      "2   0.09  0.1  0.00  0.00  0.06  0.31  0.00  0.00   0.1  \n",
      "3   0.13  0.0  0.00  0.11  0.00  0.46  0.00  0.00   0.0  \n",
      "4   0.00  0.0  0.00  0.17  0.12  0.41  0.13  0.00   0.0  \n",
      "5   0.00  0.0  0.00  0.33  0.24  0.50  0.00  0.00   0.0  \n",
      "6   0.00  0.0  0.22  0.00  0.00  0.49  0.20  0.00   0.0  \n",
      "7   0.00  0.0  0.53  0.00  0.00  0.30  0.00  0.00   0.0  \n",
      "8   0.00  0.0  0.22  0.00  0.00  0.49  0.20  0.00   0.0  \n",
      "9   0.00  0.0  0.00  0.00  0.08  0.34  0.00  0.13   0.0  \n",
      "\n",
      "[10 rows x 31 columns]\n"
     ]
    }
   ],
   "source": [
    "# Using TF-IDF Transformer\n",
    "tt = TfidfTransformer(norm='l2', use_idf=True)\n",
    "tt_matrix = tt.fit_transform(cv_matrix)\n",
    "\n",
    "tt_matrix = tt_matrix.toarray()\n",
    "vocab = cv.get_feature_names()\n",
    "\n",
    "tf_idf1 = pd.DataFrame(np.round(tt_matrix, 2), columns=vocab)\n",
    "print(tf_idf1)\n",
    "# Aufbau Matrix: pro unique Akkord Spalte und pro Tune 1 Zeile, Cos-Similarities mit Songs berechnen.\n",
    "# siehe Anleitung aus dem Unterricht."
   ]
  },
  {
   "cell_type": "code",
   "execution_count": 13,
   "metadata": {},
   "outputs": [
    {
     "name": "stdout",
     "output_type": "stream",
     "text": [
      "     a7    am   am7    b7   bb7   bm7    c6    c7  caug   cm7  ...   em7  \\\n",
      "0  0.00  0.00  0.00  0.00  0.12  0.00  0.00  0.16   0.0  0.41  ...  0.00   \n",
      "1  0.17  0.00  0.41  0.21  0.00  0.00  0.15  0.12   0.0  0.24  ...  0.22   \n",
      "2  0.05  0.63  0.00  0.00  0.00  0.00  0.00  0.00   0.1  0.00  ...  0.00   \n",
      "3  0.07  0.00  0.61  0.00  0.00  0.00  0.18  0.00   0.0  0.30  ...  0.00   \n",
      "4  0.10  0.00  0.44  0.00  0.00  0.22  0.00  0.00   0.0  0.43  ...  0.13   \n",
      "5  0.20  0.00  0.00  0.00  0.00  0.00  0.00  0.33   0.0  0.22  ...  0.00   \n",
      "6  0.44  0.00  0.00  0.00  0.25  0.00  0.20  0.16   0.0  0.16  ...  0.30   \n",
      "7  0.00  0.00  0.00  0.00  0.00  0.00  0.00  0.78   0.0  0.00  ...  0.00   \n",
      "8  0.44  0.00  0.00  0.00  0.25  0.00  0.20  0.16   0.0  0.16  ...  0.30   \n",
      "9  0.13  0.00  0.20  0.13  0.00  0.00  0.45  0.07   0.0  0.00  ...  0.36   \n",
      "\n",
      "   em7b5   f6    f7   fm6   fm7    g7   gm7  m7b5  mdim  \n",
      "0   0.00  0.0  0.11  0.00  0.18  0.37  0.10  0.00   0.0  \n",
      "1   0.00  0.0  0.00  0.00  0.13  0.46  0.22  0.32   0.0  \n",
      "2   0.09  0.1  0.00  0.00  0.06  0.31  0.00  0.00   0.1  \n",
      "3   0.13  0.0  0.00  0.11  0.00  0.46  0.00  0.00   0.0  \n",
      "4   0.00  0.0  0.00  0.17  0.12  0.41  0.13  0.00   0.0  \n",
      "5   0.00  0.0  0.00  0.33  0.24  0.50  0.00  0.00   0.0  \n",
      "6   0.00  0.0  0.22  0.00  0.00  0.49  0.20  0.00   0.0  \n",
      "7   0.00  0.0  0.53  0.00  0.00  0.30  0.00  0.00   0.0  \n",
      "8   0.00  0.0  0.22  0.00  0.00  0.49  0.20  0.00   0.0  \n",
      "9   0.00  0.0  0.00  0.00  0.08  0.34  0.00  0.13   0.0  \n",
      "\n",
      "[10 rows x 31 columns]\n"
     ]
    }
   ],
   "source": [
    "# Using TF-IDF Vectorizer\n",
    "tv = TfidfVectorizer(min_df = 0., max_df = 1., norm = 'l2', use_idf = True)\n",
    "tv_matrix = tv.fit_transform(tunes_manuell)\n",
    "tv_matrix = tv_matrix.toarray()\n",
    "\n",
    "vocab = tv.get_feature_names()\n",
    "tf_idf2 = pd.DataFrame(np.round(tv_matrix, 2), columns = vocab)\n",
    "print(tf_idf2)"
   ]
  },
  {
   "cell_type": "code",
   "execution_count": null,
   "metadata": {},
   "outputs": [],
   "source": []
  }
 ],
 "metadata": {
  "kernelspec": {
   "display_name": "Python 3",
   "language": "python",
   "name": "python3"
  },
  "language_info": {
   "codemirror_mode": {
    "name": "ipython",
    "version": 3
   },
   "file_extension": ".py",
   "mimetype": "text/x-python",
   "name": "python",
   "nbconvert_exporter": "python",
   "pygments_lexer": "ipython3",
   "version": "3.8.5"
  }
 },
 "nbformat": 4,
 "nbformat_minor": 4
}
